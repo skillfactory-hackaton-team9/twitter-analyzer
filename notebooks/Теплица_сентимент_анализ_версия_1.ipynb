{
  "nbformat": 4,
  "nbformat_minor": 0,
  "metadata": {
    "colab": {
      "name": "Теплица. сентимент анализ. версия 1",
      "provenance": [],
      "collapsed_sections": []
    },
    "kernelspec": {
      "name": "python3",
      "display_name": "Python 3"
    },
    "language_info": {
      "name": "python"
    },
    "accelerator": "GPU",
    "gpuClass": "standard"
  },
  "cells": [
    {
      "cell_type": "code",
      "execution_count": 1,
      "metadata": {
        "colab": {
          "base_uri": "https://localhost:8080/"
        },
        "id": "V-0rMNv9mw6u",
        "outputId": "b4a2df50-fa76-46de-c08a-e1adce07271f"
      },
      "outputs": [
        {
          "output_type": "stream",
          "name": "stdout",
          "text": [
            "Looking in indexes: https://pypi.org/simple, https://us-python.pkg.dev/colab-wheels/public/simple/\n",
            "Collecting transformers\n",
            "  Downloading transformers-4.20.1-py3-none-any.whl (4.4 MB)\n",
            "\u001b[K     |████████████████████████████████| 4.4 MB 28.4 MB/s \n",
            "\u001b[?25hCollecting huggingface-hub<1.0,>=0.1.0\n",
            "  Downloading huggingface_hub-0.8.1-py3-none-any.whl (101 kB)\n",
            "\u001b[K     |████████████████████████████████| 101 kB 13.4 MB/s \n",
            "\u001b[?25hRequirement already satisfied: numpy>=1.17 in /usr/local/lib/python3.7/dist-packages (from transformers) (1.21.6)\n",
            "Requirement already satisfied: packaging>=20.0 in /usr/local/lib/python3.7/dist-packages (from transformers) (21.3)\n",
            "Collecting pyyaml>=5.1\n",
            "  Downloading PyYAML-6.0-cp37-cp37m-manylinux_2_5_x86_64.manylinux1_x86_64.manylinux_2_12_x86_64.manylinux2010_x86_64.whl (596 kB)\n",
            "\u001b[K     |████████████████████████████████| 596 kB 68.1 MB/s \n",
            "\u001b[?25hRequirement already satisfied: regex!=2019.12.17 in /usr/local/lib/python3.7/dist-packages (from transformers) (2022.6.2)\n",
            "Requirement already satisfied: tqdm>=4.27 in /usr/local/lib/python3.7/dist-packages (from transformers) (4.64.0)\n",
            "Requirement already satisfied: importlib-metadata in /usr/local/lib/python3.7/dist-packages (from transformers) (4.12.0)\n",
            "Requirement already satisfied: requests in /usr/local/lib/python3.7/dist-packages (from transformers) (2.23.0)\n",
            "Collecting tokenizers!=0.11.3,<0.13,>=0.11.1\n",
            "  Downloading tokenizers-0.12.1-cp37-cp37m-manylinux_2_12_x86_64.manylinux2010_x86_64.whl (6.6 MB)\n",
            "\u001b[K     |████████████████████████████████| 6.6 MB 65.1 MB/s \n",
            "\u001b[?25hRequirement already satisfied: filelock in /usr/local/lib/python3.7/dist-packages (from transformers) (3.7.1)\n",
            "Requirement already satisfied: typing-extensions>=3.7.4.3 in /usr/local/lib/python3.7/dist-packages (from huggingface-hub<1.0,>=0.1.0->transformers) (4.1.1)\n",
            "Requirement already satisfied: pyparsing!=3.0.5,>=2.0.2 in /usr/local/lib/python3.7/dist-packages (from packaging>=20.0->transformers) (3.0.9)\n",
            "Requirement already satisfied: zipp>=0.5 in /usr/local/lib/python3.7/dist-packages (from importlib-metadata->transformers) (3.8.1)\n",
            "Requirement already satisfied: certifi>=2017.4.17 in /usr/local/lib/python3.7/dist-packages (from requests->transformers) (2022.6.15)\n",
            "Requirement already satisfied: idna<3,>=2.5 in /usr/local/lib/python3.7/dist-packages (from requests->transformers) (2.10)\n",
            "Requirement already satisfied: chardet<4,>=3.0.2 in /usr/local/lib/python3.7/dist-packages (from requests->transformers) (3.0.4)\n",
            "Requirement already satisfied: urllib3!=1.25.0,!=1.25.1,<1.26,>=1.21.1 in /usr/local/lib/python3.7/dist-packages (from requests->transformers) (1.24.3)\n",
            "Installing collected packages: pyyaml, tokenizers, huggingface-hub, transformers\n",
            "  Attempting uninstall: pyyaml\n",
            "    Found existing installation: PyYAML 3.13\n",
            "    Uninstalling PyYAML-3.13:\n",
            "      Successfully uninstalled PyYAML-3.13\n",
            "Successfully installed huggingface-hub-0.8.1 pyyaml-6.0 tokenizers-0.12.1 transformers-4.20.1\n"
          ]
        }
      ],
      "source": [
        "!pip install transformers"
      ]
    },
    {
      "cell_type": "code",
      "source": [
        "import os\n",
        "\n",
        "# For data manipulation\n",
        "import numpy as np\n",
        "import pandas as pd\n",
        "import warnings\n",
        "import pickle\n",
        "\n",
        "from sklearn.model_selection import StratifiedKFold\n",
        "from sklearn.preprocessing import LabelEncoder\n",
        "\n",
        "import matplotlib.pyplot as plt\n",
        "from pylab import rcParams\n",
        "\n",
        "import torch\n",
        "import torch.nn as nn\n",
        "\n",
        "# For Transformer Models\n",
        "from transformers import (\n",
        "    AdamW,\n",
        "    AutoTokenizer, \n",
        "    AutoModel,\n",
        "    AutoConfig,\n",
        "    AutoModelForSequenceClassification, \n",
        "    DataCollatorForLanguageModeling, \n",
        "    get_scheduler,\n",
        "    Trainer, \n",
        "    TrainingArguments\n",
        ")\n",
        "\n",
        "from tqdm.auto import tqdm"
      ],
      "metadata": {
        "id": "KUa7aW5wm7WH"
      },
      "execution_count": 2,
      "outputs": []
    },
    {
      "cell_type": "markdown",
      "source": [
        "## Загрузка данных"
      ],
      "metadata": {
        "id": "bBfvC2lsoXXv"
      }
    },
    {
      "cell_type": "code",
      "source": [
        "df = pd.read_csv(\"https://raw.githubusercontent.com/skillfactory-hackaton-team9/twitter-analyzer/main/parsed_data/twitter.csv\", index_col=0)"
      ],
      "metadata": {
        "id": "qsm3YnfXnjpA"
      },
      "execution_count": 55,
      "outputs": []
    },
    {
      "cell_type": "code",
      "source": [
        "df.head()"
      ],
      "metadata": {
        "colab": {
          "base_uri": "https://localhost:8080/",
          "height": 206
        },
        "id": "g8I75wBqnmXp",
        "outputId": "16e37c8b-3cab-4214-ad34-bc4ed65c72b8"
      },
      "execution_count": 56,
      "outputs": [
        {
          "output_type": "execute_result",
          "data": {
            "text/plain": [
              "                       date                             author  \\\n",
              "0  2022-03-20T21:22:37.000Z                  Фонд Подари жизнь   \n",
              "1  2022-03-20T21:22:37.000Z                              Masha   \n",
              "2  2022-03-20T21:22:37.000Z  Просто СЕРЁГА. И да, я патриот!!!   \n",
              "3  2022-03-20T21:22:37.000Z                              водка   \n",
              "4  2022-03-20T21:22:37.000Z                       Compatriot Z   \n",
              "\n",
              "       twitter_name                                               text  \\\n",
              "0      @podarizhizn  \\n\\n\\n\\n\\n\\n'фонд Подари жизнь' — Поиск в Твит...   \n",
              "1     @arctic_lanes  А по телеку всё идет реклама: \"Оформи ежемесяч...   \n",
              "2  @MgNBAiiDua58SZ5  Чулпан Хаматова эмигрировала в Латвию. \\nСказа...   \n",
              "3      @vodkaofsuga  Русскоязычные АРМИ пожертвовали 841 640 р. в ф...   \n",
              "4          @cardros  Оппа, какой интересный поворот!\\nХотя, честно ...   \n",
              "\n",
              "   number_of_reply  number_of_retweets  number_of_likes  \n",
              "0              0.0                 3.0               19  \n",
              "1             29.0                63.0              335  \n",
              "2              1.0                31.0              146  \n",
              "3             92.0               461.0              570  \n",
              "4            364.0               119.0              526  "
            ],
            "text/html": [
              "\n",
              "  <div id=\"df-ab27bb60-2877-48ab-a857-c5c40bb1de64\">\n",
              "    <div class=\"colab-df-container\">\n",
              "      <div>\n",
              "<style scoped>\n",
              "    .dataframe tbody tr th:only-of-type {\n",
              "        vertical-align: middle;\n",
              "    }\n",
              "\n",
              "    .dataframe tbody tr th {\n",
              "        vertical-align: top;\n",
              "    }\n",
              "\n",
              "    .dataframe thead th {\n",
              "        text-align: right;\n",
              "    }\n",
              "</style>\n",
              "<table border=\"1\" class=\"dataframe\">\n",
              "  <thead>\n",
              "    <tr style=\"text-align: right;\">\n",
              "      <th></th>\n",
              "      <th>date</th>\n",
              "      <th>author</th>\n",
              "      <th>twitter_name</th>\n",
              "      <th>text</th>\n",
              "      <th>number_of_reply</th>\n",
              "      <th>number_of_retweets</th>\n",
              "      <th>number_of_likes</th>\n",
              "    </tr>\n",
              "  </thead>\n",
              "  <tbody>\n",
              "    <tr>\n",
              "      <th>0</th>\n",
              "      <td>2022-03-20T21:22:37.000Z</td>\n",
              "      <td>Фонд Подари жизнь</td>\n",
              "      <td>@podarizhizn</td>\n",
              "      <td>\\n\\n\\n\\n\\n\\n'фонд Подари жизнь' — Поиск в Твит...</td>\n",
              "      <td>0.0</td>\n",
              "      <td>3.0</td>\n",
              "      <td>19</td>\n",
              "    </tr>\n",
              "    <tr>\n",
              "      <th>1</th>\n",
              "      <td>2022-03-20T21:22:37.000Z</td>\n",
              "      <td>Masha</td>\n",
              "      <td>@arctic_lanes</td>\n",
              "      <td>А по телеку всё идет реклама: \"Оформи ежемесяч...</td>\n",
              "      <td>29.0</td>\n",
              "      <td>63.0</td>\n",
              "      <td>335</td>\n",
              "    </tr>\n",
              "    <tr>\n",
              "      <th>2</th>\n",
              "      <td>2022-03-20T21:22:37.000Z</td>\n",
              "      <td>Просто СЕРЁГА. И да, я патриот!!!</td>\n",
              "      <td>@MgNBAiiDua58SZ5</td>\n",
              "      <td>Чулпан Хаматова эмигрировала в Латвию. \\nСказа...</td>\n",
              "      <td>1.0</td>\n",
              "      <td>31.0</td>\n",
              "      <td>146</td>\n",
              "    </tr>\n",
              "    <tr>\n",
              "      <th>3</th>\n",
              "      <td>2022-03-20T21:22:37.000Z</td>\n",
              "      <td>водка</td>\n",
              "      <td>@vodkaofsuga</td>\n",
              "      <td>Русскоязычные АРМИ пожертвовали 841 640 р. в ф...</td>\n",
              "      <td>92.0</td>\n",
              "      <td>461.0</td>\n",
              "      <td>570</td>\n",
              "    </tr>\n",
              "    <tr>\n",
              "      <th>4</th>\n",
              "      <td>2022-03-20T21:22:37.000Z</td>\n",
              "      <td>Compatriot Z</td>\n",
              "      <td>@cardros</td>\n",
              "      <td>Оппа, какой интересный поворот!\\nХотя, честно ...</td>\n",
              "      <td>364.0</td>\n",
              "      <td>119.0</td>\n",
              "      <td>526</td>\n",
              "    </tr>\n",
              "  </tbody>\n",
              "</table>\n",
              "</div>\n",
              "      <button class=\"colab-df-convert\" onclick=\"convertToInteractive('df-ab27bb60-2877-48ab-a857-c5c40bb1de64')\"\n",
              "              title=\"Convert this dataframe to an interactive table.\"\n",
              "              style=\"display:none;\">\n",
              "        \n",
              "  <svg xmlns=\"http://www.w3.org/2000/svg\" height=\"24px\"viewBox=\"0 0 24 24\"\n",
              "       width=\"24px\">\n",
              "    <path d=\"M0 0h24v24H0V0z\" fill=\"none\"/>\n",
              "    <path d=\"M18.56 5.44l.94 2.06.94-2.06 2.06-.94-2.06-.94-.94-2.06-.94 2.06-2.06.94zm-11 1L8.5 8.5l.94-2.06 2.06-.94-2.06-.94L8.5 2.5l-.94 2.06-2.06.94zm10 10l.94 2.06.94-2.06 2.06-.94-2.06-.94-.94-2.06-.94 2.06-2.06.94z\"/><path d=\"M17.41 7.96l-1.37-1.37c-.4-.4-.92-.59-1.43-.59-.52 0-1.04.2-1.43.59L10.3 9.45l-7.72 7.72c-.78.78-.78 2.05 0 2.83L4 21.41c.39.39.9.59 1.41.59.51 0 1.02-.2 1.41-.59l7.78-7.78 2.81-2.81c.8-.78.8-2.07 0-2.86zM5.41 20L4 18.59l7.72-7.72 1.47 1.35L5.41 20z\"/>\n",
              "  </svg>\n",
              "      </button>\n",
              "      \n",
              "  <style>\n",
              "    .colab-df-container {\n",
              "      display:flex;\n",
              "      flex-wrap:wrap;\n",
              "      gap: 12px;\n",
              "    }\n",
              "\n",
              "    .colab-df-convert {\n",
              "      background-color: #E8F0FE;\n",
              "      border: none;\n",
              "      border-radius: 50%;\n",
              "      cursor: pointer;\n",
              "      display: none;\n",
              "      fill: #1967D2;\n",
              "      height: 32px;\n",
              "      padding: 0 0 0 0;\n",
              "      width: 32px;\n",
              "    }\n",
              "\n",
              "    .colab-df-convert:hover {\n",
              "      background-color: #E2EBFA;\n",
              "      box-shadow: 0px 1px 2px rgba(60, 64, 67, 0.3), 0px 1px 3px 1px rgba(60, 64, 67, 0.15);\n",
              "      fill: #174EA6;\n",
              "    }\n",
              "\n",
              "    [theme=dark] .colab-df-convert {\n",
              "      background-color: #3B4455;\n",
              "      fill: #D2E3FC;\n",
              "    }\n",
              "\n",
              "    [theme=dark] .colab-df-convert:hover {\n",
              "      background-color: #434B5C;\n",
              "      box-shadow: 0px 1px 3px 1px rgba(0, 0, 0, 0.15);\n",
              "      filter: drop-shadow(0px 1px 2px rgba(0, 0, 0, 0.3));\n",
              "      fill: #FFFFFF;\n",
              "    }\n",
              "  </style>\n",
              "\n",
              "      <script>\n",
              "        const buttonEl =\n",
              "          document.querySelector('#df-ab27bb60-2877-48ab-a857-c5c40bb1de64 button.colab-df-convert');\n",
              "        buttonEl.style.display =\n",
              "          google.colab.kernel.accessAllowed ? 'block' : 'none';\n",
              "\n",
              "        async function convertToInteractive(key) {\n",
              "          const element = document.querySelector('#df-ab27bb60-2877-48ab-a857-c5c40bb1de64');\n",
              "          const dataTable =\n",
              "            await google.colab.kernel.invokeFunction('convertToInteractive',\n",
              "                                                     [key], {});\n",
              "          if (!dataTable) return;\n",
              "\n",
              "          const docLinkHtml = 'Like what you see? Visit the ' +\n",
              "            '<a target=\"_blank\" href=https://colab.research.google.com/notebooks/data_table.ipynb>data table notebook</a>'\n",
              "            + ' to learn more about interactive tables.';\n",
              "          element.innerHTML = '';\n",
              "          dataTable['output_type'] = 'display_data';\n",
              "          await google.colab.output.renderOutput(dataTable, element);\n",
              "          const docLink = document.createElement('div');\n",
              "          docLink.innerHTML = docLinkHtml;\n",
              "          element.appendChild(docLink);\n",
              "        }\n",
              "      </script>\n",
              "    </div>\n",
              "  </div>\n",
              "  "
            ]
          },
          "metadata": {},
          "execution_count": 56
        }
      ]
    },
    {
      "cell_type": "code",
      "source": [
        "df.shape"
      ],
      "metadata": {
        "colab": {
          "base_uri": "https://localhost:8080/"
        },
        "id": "MWmXthURwlHu",
        "outputId": "5c6cb8a5-dabc-4b13-93b9-ffe2606e0e99"
      },
      "execution_count": 62,
      "outputs": [
        {
          "output_type": "execute_result",
          "data": {
            "text/plain": [
              "(3721, 7)"
            ]
          },
          "metadata": {},
          "execution_count": 62
        }
      ]
    },
    {
      "cell_type": "markdown",
      "source": [
        "## Предсказания первой модели"
      ],
      "metadata": {
        "id": "mbAmqzaBqbzZ"
      }
    },
    {
      "cell_type": "code",
      "source": [
        "MODEL_NAME = 'cointegrated/rubert-tiny-toxicity'"
      ],
      "metadata": {
        "id": "u5-4hWipoQPG"
      },
      "execution_count": 37,
      "outputs": []
    },
    {
      "cell_type": "code",
      "source": [
        "tokenizer = AutoTokenizer.from_pretrained(MODEL_NAME)\n",
        "model = AutoModelForSequenceClassification.from_pretrained(MODEL_NAME)\n",
        "if torch.cuda.is_available():\n",
        "    model.cuda()"
      ],
      "metadata": {
        "id": "xfZ3JYz-pOct"
      },
      "execution_count": 38,
      "outputs": []
    },
    {
      "cell_type": "code",
      "source": [
        "def text2toxicity(text, aggregate=False):\n",
        "    \"\"\" Calculate toxicity of a text (if aggregate=True) or a vector of toxicity aspects (if aggregate=False)\"\"\"\n",
        "    with torch.no_grad():\n",
        "        inputs = tokenizer(text, return_tensors='pt', truncation=True, padding=True).to(model.device)\n",
        "        proba = torch.sigmoid(model(**inputs).logits).cpu().numpy()\n",
        "    if isinstance(text, str):\n",
        "        proba = proba[0]\n",
        "    if aggregate:\n",
        "        return 1 - proba.T[0] * (1 - proba.T[-1])\n",
        "    return proba"
      ],
      "metadata": {
        "id": "KJjKQ57KpX70"
      },
      "execution_count": 39,
      "outputs": []
    },
    {
      "cell_type": "code",
      "source": [
        "df.text.head(10)"
      ],
      "metadata": {
        "colab": {
          "base_uri": "https://localhost:8080/"
        },
        "id": "KYkCgg8WpdV-",
        "outputId": "5c7f412e-b522-4306-e4dd-b2bd0f176e3a"
      },
      "execution_count": 40,
      "outputs": [
        {
          "output_type": "execute_result",
          "data": {
            "text/plain": [
              "0    \\n\\n\\n\\n\\n\\n'фонд Подари жизнь' — Поиск в Твит...\n",
              "1    А по телеку всё идет реклама: \"Оформи ежемесяч...\n",
              "2    Чулпан Хаматова эмигрировала в Латвию. \\nСказа...\n",
              "3    Русскоязычные АРМИ пожертвовали 841 640 р. в ф...\n",
              "4    Оппа, какой интересный поворот!\\nХотя, честно ...\n",
              "5    Фонд «Подари жизнь» Чулпан Хаматовой к началу ...\n",
              "6    Почему мы все время слышим про дорогое жильё, ...\n",
              "7    Чулпан Хаматову заподозрили в отмывании денег ...\n",
              "8    дима с антоном поддержавшие фонд «подари жизнь...\n",
              "9    \\n\\n\\n\\n\\n\\n'фонд Подари жизнь' — Поиск в Твит...\n",
              "Name: text, dtype: object"
            ]
          },
          "metadata": {},
          "execution_count": 40
        }
      ]
    },
    {
      "cell_type": "code",
      "source": [
        "sentiment = df.text.apply(text2toxicity)"
      ],
      "metadata": {
        "id": "e38aeDv0pid-"
      },
      "execution_count": 41,
      "outputs": []
    },
    {
      "cell_type": "code",
      "source": [
        "sentiment_m1_df = pd.DataFrame.from_records(sentiment, columns=[\"m1_notoxic\", \"m1_insult\", \"m1_obscenity\", \"m1_threat\", \"m1_dangerous\"])"
      ],
      "metadata": {
        "id": "J5yt3wXJptTs"
      },
      "execution_count": 42,
      "outputs": []
    },
    {
      "cell_type": "code",
      "source": [
        "df.join(sentiment_m1_df)"
      ],
      "metadata": {
        "colab": {
          "base_uri": "https://localhost:8080/",
          "height": 659
        },
        "id": "CM927rcdqSju",
        "outputId": "6efb98a6-28f9-492b-97d2-8caaa98d90f7"
      },
      "execution_count": 43,
      "outputs": [
        {
          "output_type": "execute_result",
          "data": {
            "text/plain": [
              "      Unnamed: 0                      date                             author  \\\n",
              "0              0  2022-03-20T21:22:37.000Z                  Фонд Подари жизнь   \n",
              "1              1  2022-03-20T21:22:37.000Z                              Masha   \n",
              "2              2  2022-03-20T21:22:37.000Z  Просто СЕРЁГА. И да, я патриот!!!   \n",
              "3              3  2022-03-20T21:22:37.000Z                              водка   \n",
              "4              4  2022-03-20T21:22:37.000Z                       Compatriot Z   \n",
              "...          ...                       ...                                ...   \n",
              "3716        3716  2017-05-06T16:39:36.000Z                  Елена Кожевникова   \n",
              "3717        3717  2017-05-06T16:39:36.000Z                      Елена Климова   \n",
              "3718        3718  2017-05-06T16:39:36.000Z                   Виктория Волкова   \n",
              "3719        3719  2017-05-06T16:39:36.000Z                Людмила Скоморохова   \n",
              "3720        3720  2017-05-06T16:39:36.000Z                     Елена Логинова   \n",
              "\n",
              "          twitter_name                                               text  \\\n",
              "0         @podarizhizn  \\n\\n\\n\\n\\n\\n'фонд Подари жизнь' — Поиск в Твит...   \n",
              "1        @arctic_lanes  А по телеку всё идет реклама: \"Оформи ежемесяч...   \n",
              "2     @MgNBAiiDua58SZ5  Чулпан Хаматова эмигрировала в Латвию. \\nСказа...   \n",
              "3         @vodkaofsuga  Русскоязычные АРМИ пожертвовали 841 640 р. в ф...   \n",
              "4             @cardros  Оппа, какой интересный поворот!\\nХотя, честно ...   \n",
              "...                ...                                                ...   \n",
              "3716  @oKnAGVAoIW7tXTy  Артем Ляшенко 3 года. Требуется лечение, Вы мо...   \n",
              "3717  @kGrqfLjWHlHY2AM  Илья Молодкин 4 года. Требуется лечение, Вы мо...   \n",
              "3718  @2a5sX7wm8Wwd8Yu  Даня Цветков 7 лет. Требуется лечение, Вы може...   \n",
              "3719  @IaqNXbciAPnRokY  Саша Скареднова 14 лет. Требуется лечение, Вы ...   \n",
              "3720  @pJKJFTEEACYuDqj  Мирон Кедров 10 лет. Требуется лечение, Вы мож...   \n",
              "\n",
              "      number_of_reply  number_of_retweets  number_of_likes  m1_notoxic  \\\n",
              "0                 0.0                 3.0               19    0.998206   \n",
              "1                29.0                63.0              335    0.999864   \n",
              "2                 1.0                31.0              146    0.010285   \n",
              "3                92.0               461.0              570    0.996537   \n",
              "4               364.0               119.0              526    0.993550   \n",
              "...               ...                 ...              ...         ...   \n",
              "3716              0.0                 0.0                0    0.999836   \n",
              "3717              0.0                 0.0                0    0.999808   \n",
              "3718              0.0                 0.0                0    0.999810   \n",
              "3719              0.0                 0.0                0    0.999688   \n",
              "3720              0.0                 0.0                0    0.999801   \n",
              "\n",
              "      m1_insult  m1_obscenity  m1_threat  m1_dangerous  \n",
              "0      0.001872      0.000105   0.000160      0.372565  \n",
              "1      0.000180      0.000106   0.000124      0.047153  \n",
              "2      0.981738      0.004774   0.005248      0.960458  \n",
              "3      0.003471      0.000451   0.000375      0.597437  \n",
              "4      0.007526      0.000244   0.000150      0.346785  \n",
              "...         ...           ...        ...           ...  \n",
              "3716   0.000185      0.000120   0.000155      0.081041  \n",
              "3717   0.000209      0.000086   0.000131      0.112526  \n",
              "3718   0.000208      0.000105   0.000130      0.150270  \n",
              "3719   0.000333      0.000134   0.000143      0.297211  \n",
              "3720   0.000219      0.000129   0.000157      0.201289  \n",
              "\n",
              "[3721 rows x 13 columns]"
            ],
            "text/html": [
              "\n",
              "  <div id=\"df-e65cb742-f1a6-49ed-bf83-c1cb48932c36\">\n",
              "    <div class=\"colab-df-container\">\n",
              "      <div>\n",
              "<style scoped>\n",
              "    .dataframe tbody tr th:only-of-type {\n",
              "        vertical-align: middle;\n",
              "    }\n",
              "\n",
              "    .dataframe tbody tr th {\n",
              "        vertical-align: top;\n",
              "    }\n",
              "\n",
              "    .dataframe thead th {\n",
              "        text-align: right;\n",
              "    }\n",
              "</style>\n",
              "<table border=\"1\" class=\"dataframe\">\n",
              "  <thead>\n",
              "    <tr style=\"text-align: right;\">\n",
              "      <th></th>\n",
              "      <th>Unnamed: 0</th>\n",
              "      <th>date</th>\n",
              "      <th>author</th>\n",
              "      <th>twitter_name</th>\n",
              "      <th>text</th>\n",
              "      <th>number_of_reply</th>\n",
              "      <th>number_of_retweets</th>\n",
              "      <th>number_of_likes</th>\n",
              "      <th>m1_notoxic</th>\n",
              "      <th>m1_insult</th>\n",
              "      <th>m1_obscenity</th>\n",
              "      <th>m1_threat</th>\n",
              "      <th>m1_dangerous</th>\n",
              "    </tr>\n",
              "  </thead>\n",
              "  <tbody>\n",
              "    <tr>\n",
              "      <th>0</th>\n",
              "      <td>0</td>\n",
              "      <td>2022-03-20T21:22:37.000Z</td>\n",
              "      <td>Фонд Подари жизнь</td>\n",
              "      <td>@podarizhizn</td>\n",
              "      <td>\\n\\n\\n\\n\\n\\n'фонд Подари жизнь' — Поиск в Твит...</td>\n",
              "      <td>0.0</td>\n",
              "      <td>3.0</td>\n",
              "      <td>19</td>\n",
              "      <td>0.998206</td>\n",
              "      <td>0.001872</td>\n",
              "      <td>0.000105</td>\n",
              "      <td>0.000160</td>\n",
              "      <td>0.372565</td>\n",
              "    </tr>\n",
              "    <tr>\n",
              "      <th>1</th>\n",
              "      <td>1</td>\n",
              "      <td>2022-03-20T21:22:37.000Z</td>\n",
              "      <td>Masha</td>\n",
              "      <td>@arctic_lanes</td>\n",
              "      <td>А по телеку всё идет реклама: \"Оформи ежемесяч...</td>\n",
              "      <td>29.0</td>\n",
              "      <td>63.0</td>\n",
              "      <td>335</td>\n",
              "      <td>0.999864</td>\n",
              "      <td>0.000180</td>\n",
              "      <td>0.000106</td>\n",
              "      <td>0.000124</td>\n",
              "      <td>0.047153</td>\n",
              "    </tr>\n",
              "    <tr>\n",
              "      <th>2</th>\n",
              "      <td>2</td>\n",
              "      <td>2022-03-20T21:22:37.000Z</td>\n",
              "      <td>Просто СЕРЁГА. И да, я патриот!!!</td>\n",
              "      <td>@MgNBAiiDua58SZ5</td>\n",
              "      <td>Чулпан Хаматова эмигрировала в Латвию. \\nСказа...</td>\n",
              "      <td>1.0</td>\n",
              "      <td>31.0</td>\n",
              "      <td>146</td>\n",
              "      <td>0.010285</td>\n",
              "      <td>0.981738</td>\n",
              "      <td>0.004774</td>\n",
              "      <td>0.005248</td>\n",
              "      <td>0.960458</td>\n",
              "    </tr>\n",
              "    <tr>\n",
              "      <th>3</th>\n",
              "      <td>3</td>\n",
              "      <td>2022-03-20T21:22:37.000Z</td>\n",
              "      <td>водка</td>\n",
              "      <td>@vodkaofsuga</td>\n",
              "      <td>Русскоязычные АРМИ пожертвовали 841 640 р. в ф...</td>\n",
              "      <td>92.0</td>\n",
              "      <td>461.0</td>\n",
              "      <td>570</td>\n",
              "      <td>0.996537</td>\n",
              "      <td>0.003471</td>\n",
              "      <td>0.000451</td>\n",
              "      <td>0.000375</td>\n",
              "      <td>0.597437</td>\n",
              "    </tr>\n",
              "    <tr>\n",
              "      <th>4</th>\n",
              "      <td>4</td>\n",
              "      <td>2022-03-20T21:22:37.000Z</td>\n",
              "      <td>Compatriot Z</td>\n",
              "      <td>@cardros</td>\n",
              "      <td>Оппа, какой интересный поворот!\\nХотя, честно ...</td>\n",
              "      <td>364.0</td>\n",
              "      <td>119.0</td>\n",
              "      <td>526</td>\n",
              "      <td>0.993550</td>\n",
              "      <td>0.007526</td>\n",
              "      <td>0.000244</td>\n",
              "      <td>0.000150</td>\n",
              "      <td>0.346785</td>\n",
              "    </tr>\n",
              "    <tr>\n",
              "      <th>...</th>\n",
              "      <td>...</td>\n",
              "      <td>...</td>\n",
              "      <td>...</td>\n",
              "      <td>...</td>\n",
              "      <td>...</td>\n",
              "      <td>...</td>\n",
              "      <td>...</td>\n",
              "      <td>...</td>\n",
              "      <td>...</td>\n",
              "      <td>...</td>\n",
              "      <td>...</td>\n",
              "      <td>...</td>\n",
              "      <td>...</td>\n",
              "    </tr>\n",
              "    <tr>\n",
              "      <th>3716</th>\n",
              "      <td>3716</td>\n",
              "      <td>2017-05-06T16:39:36.000Z</td>\n",
              "      <td>Елена Кожевникова</td>\n",
              "      <td>@oKnAGVAoIW7tXTy</td>\n",
              "      <td>Артем Ляшенко 3 года. Требуется лечение, Вы мо...</td>\n",
              "      <td>0.0</td>\n",
              "      <td>0.0</td>\n",
              "      <td>0</td>\n",
              "      <td>0.999836</td>\n",
              "      <td>0.000185</td>\n",
              "      <td>0.000120</td>\n",
              "      <td>0.000155</td>\n",
              "      <td>0.081041</td>\n",
              "    </tr>\n",
              "    <tr>\n",
              "      <th>3717</th>\n",
              "      <td>3717</td>\n",
              "      <td>2017-05-06T16:39:36.000Z</td>\n",
              "      <td>Елена Климова</td>\n",
              "      <td>@kGrqfLjWHlHY2AM</td>\n",
              "      <td>Илья Молодкин 4 года. Требуется лечение, Вы мо...</td>\n",
              "      <td>0.0</td>\n",
              "      <td>0.0</td>\n",
              "      <td>0</td>\n",
              "      <td>0.999808</td>\n",
              "      <td>0.000209</td>\n",
              "      <td>0.000086</td>\n",
              "      <td>0.000131</td>\n",
              "      <td>0.112526</td>\n",
              "    </tr>\n",
              "    <tr>\n",
              "      <th>3718</th>\n",
              "      <td>3718</td>\n",
              "      <td>2017-05-06T16:39:36.000Z</td>\n",
              "      <td>Виктория Волкова</td>\n",
              "      <td>@2a5sX7wm8Wwd8Yu</td>\n",
              "      <td>Даня Цветков 7 лет. Требуется лечение, Вы може...</td>\n",
              "      <td>0.0</td>\n",
              "      <td>0.0</td>\n",
              "      <td>0</td>\n",
              "      <td>0.999810</td>\n",
              "      <td>0.000208</td>\n",
              "      <td>0.000105</td>\n",
              "      <td>0.000130</td>\n",
              "      <td>0.150270</td>\n",
              "    </tr>\n",
              "    <tr>\n",
              "      <th>3719</th>\n",
              "      <td>3719</td>\n",
              "      <td>2017-05-06T16:39:36.000Z</td>\n",
              "      <td>Людмила Скоморохова</td>\n",
              "      <td>@IaqNXbciAPnRokY</td>\n",
              "      <td>Саша Скареднова 14 лет. Требуется лечение, Вы ...</td>\n",
              "      <td>0.0</td>\n",
              "      <td>0.0</td>\n",
              "      <td>0</td>\n",
              "      <td>0.999688</td>\n",
              "      <td>0.000333</td>\n",
              "      <td>0.000134</td>\n",
              "      <td>0.000143</td>\n",
              "      <td>0.297211</td>\n",
              "    </tr>\n",
              "    <tr>\n",
              "      <th>3720</th>\n",
              "      <td>3720</td>\n",
              "      <td>2017-05-06T16:39:36.000Z</td>\n",
              "      <td>Елена Логинова</td>\n",
              "      <td>@pJKJFTEEACYuDqj</td>\n",
              "      <td>Мирон Кедров 10 лет. Требуется лечение, Вы мож...</td>\n",
              "      <td>0.0</td>\n",
              "      <td>0.0</td>\n",
              "      <td>0</td>\n",
              "      <td>0.999801</td>\n",
              "      <td>0.000219</td>\n",
              "      <td>0.000129</td>\n",
              "      <td>0.000157</td>\n",
              "      <td>0.201289</td>\n",
              "    </tr>\n",
              "  </tbody>\n",
              "</table>\n",
              "<p>3721 rows × 13 columns</p>\n",
              "</div>\n",
              "      <button class=\"colab-df-convert\" onclick=\"convertToInteractive('df-e65cb742-f1a6-49ed-bf83-c1cb48932c36')\"\n",
              "              title=\"Convert this dataframe to an interactive table.\"\n",
              "              style=\"display:none;\">\n",
              "        \n",
              "  <svg xmlns=\"http://www.w3.org/2000/svg\" height=\"24px\"viewBox=\"0 0 24 24\"\n",
              "       width=\"24px\">\n",
              "    <path d=\"M0 0h24v24H0V0z\" fill=\"none\"/>\n",
              "    <path d=\"M18.56 5.44l.94 2.06.94-2.06 2.06-.94-2.06-.94-.94-2.06-.94 2.06-2.06.94zm-11 1L8.5 8.5l.94-2.06 2.06-.94-2.06-.94L8.5 2.5l-.94 2.06-2.06.94zm10 10l.94 2.06.94-2.06 2.06-.94-2.06-.94-.94-2.06-.94 2.06-2.06.94z\"/><path d=\"M17.41 7.96l-1.37-1.37c-.4-.4-.92-.59-1.43-.59-.52 0-1.04.2-1.43.59L10.3 9.45l-7.72 7.72c-.78.78-.78 2.05 0 2.83L4 21.41c.39.39.9.59 1.41.59.51 0 1.02-.2 1.41-.59l7.78-7.78 2.81-2.81c.8-.78.8-2.07 0-2.86zM5.41 20L4 18.59l7.72-7.72 1.47 1.35L5.41 20z\"/>\n",
              "  </svg>\n",
              "      </button>\n",
              "      \n",
              "  <style>\n",
              "    .colab-df-container {\n",
              "      display:flex;\n",
              "      flex-wrap:wrap;\n",
              "      gap: 12px;\n",
              "    }\n",
              "\n",
              "    .colab-df-convert {\n",
              "      background-color: #E8F0FE;\n",
              "      border: none;\n",
              "      border-radius: 50%;\n",
              "      cursor: pointer;\n",
              "      display: none;\n",
              "      fill: #1967D2;\n",
              "      height: 32px;\n",
              "      padding: 0 0 0 0;\n",
              "      width: 32px;\n",
              "    }\n",
              "\n",
              "    .colab-df-convert:hover {\n",
              "      background-color: #E2EBFA;\n",
              "      box-shadow: 0px 1px 2px rgba(60, 64, 67, 0.3), 0px 1px 3px 1px rgba(60, 64, 67, 0.15);\n",
              "      fill: #174EA6;\n",
              "    }\n",
              "\n",
              "    [theme=dark] .colab-df-convert {\n",
              "      background-color: #3B4455;\n",
              "      fill: #D2E3FC;\n",
              "    }\n",
              "\n",
              "    [theme=dark] .colab-df-convert:hover {\n",
              "      background-color: #434B5C;\n",
              "      box-shadow: 0px 1px 3px 1px rgba(0, 0, 0, 0.15);\n",
              "      filter: drop-shadow(0px 1px 2px rgba(0, 0, 0, 0.3));\n",
              "      fill: #FFFFFF;\n",
              "    }\n",
              "  </style>\n",
              "\n",
              "      <script>\n",
              "        const buttonEl =\n",
              "          document.querySelector('#df-e65cb742-f1a6-49ed-bf83-c1cb48932c36 button.colab-df-convert');\n",
              "        buttonEl.style.display =\n",
              "          google.colab.kernel.accessAllowed ? 'block' : 'none';\n",
              "\n",
              "        async function convertToInteractive(key) {\n",
              "          const element = document.querySelector('#df-e65cb742-f1a6-49ed-bf83-c1cb48932c36');\n",
              "          const dataTable =\n",
              "            await google.colab.kernel.invokeFunction('convertToInteractive',\n",
              "                                                     [key], {});\n",
              "          if (!dataTable) return;\n",
              "\n",
              "          const docLinkHtml = 'Like what you see? Visit the ' +\n",
              "            '<a target=\"_blank\" href=https://colab.research.google.com/notebooks/data_table.ipynb>data table notebook</a>'\n",
              "            + ' to learn more about interactive tables.';\n",
              "          element.innerHTML = '';\n",
              "          dataTable['output_type'] = 'display_data';\n",
              "          await google.colab.output.renderOutput(dataTable, element);\n",
              "          const docLink = document.createElement('div');\n",
              "          docLink.innerHTML = docLinkHtml;\n",
              "          element.appendChild(docLink);\n",
              "        }\n",
              "      </script>\n",
              "    </div>\n",
              "  </div>\n",
              "  "
            ]
          },
          "metadata": {},
          "execution_count": 43
        }
      ]
    },
    {
      "cell_type": "code",
      "source": [
        "df.shape"
      ],
      "metadata": {
        "colab": {
          "base_uri": "https://localhost:8080/"
        },
        "id": "zj8w8qy8r9R-",
        "outputId": "97150dfd-811e-48f4-c9bf-09f032f19475"
      },
      "execution_count": 44,
      "outputs": [
        {
          "output_type": "execute_result",
          "data": {
            "text/plain": [
              "(3721, 8)"
            ]
          },
          "metadata": {},
          "execution_count": 44
        }
      ]
    },
    {
      "cell_type": "markdown",
      "source": [
        "## Вторая модель"
      ],
      "metadata": {
        "id": "Ow8NyvpnsZ7Y"
      }
    },
    {
      "cell_type": "code",
      "source": [
        "MODEL_NAME = 'SkolkovoInstitute/russian_toxicity_classifier'"
      ],
      "metadata": {
        "id": "2Cnuxk10sTct"
      },
      "execution_count": 45,
      "outputs": []
    },
    {
      "cell_type": "code",
      "source": [
        "tokenizer = AutoTokenizer.from_pretrained(MODEL_NAME)\n",
        "model = AutoModelForSequenceClassification.from_pretrained(MODEL_NAME)\n",
        "if torch.cuda.is_available():\n",
        "    model.cuda()"
      ],
      "metadata": {
        "id": "g7amsdpmtYz2"
      },
      "execution_count": 46,
      "outputs": []
    },
    {
      "cell_type": "code",
      "source": [
        " df.text.head(10).apply(text2toxicity)"
      ],
      "metadata": {
        "colab": {
          "base_uri": "https://localhost:8080/"
        },
        "id": "po3ckGuNta52",
        "outputId": "846f2416-02a8-4cbb-947b-9e5f1b206c5b"
      },
      "execution_count": 47,
      "outputs": [
        {
          "output_type": "execute_result",
          "data": {
            "text/plain": [
              "0      [0.7974871, 0.2906293]\n",
              "1      [0.952932, 0.07994232]\n",
              "2     [0.11824974, 0.7427905]\n",
              "3     [0.6697045, 0.36554536]\n",
              "4      [0.9339162, 0.1126869]\n",
              "5     [0.9565279, 0.07171663]\n",
              "6     [0.9519586, 0.08126402]\n",
              "7     [0.88598025, 0.1778117]\n",
              "8    [0.12501732, 0.71712625]\n",
              "9      [0.912553, 0.15515533]\n",
              "Name: text, dtype: object"
            ]
          },
          "metadata": {},
          "execution_count": 47
        }
      ]
    },
    {
      "cell_type": "code",
      "source": [
        "df.loc[9,\"text\"]"
      ],
      "metadata": {
        "colab": {
          "base_uri": "https://localhost:8080/",
          "height": 105
        },
        "id": "HtaMIEcQtoSf",
        "outputId": "56635dd8-6bd0-4b9c-e4d3-0f0873bcfcf9"
      },
      "execution_count": 48,
      "outputs": [
        {
          "output_type": "execute_result",
          "data": {
            "text/plain": [
              "'\\n\\n\\n\\n\\n\\n\\'фонд Подари жизнь\\' — Поиск в Твиттере / Твиттер\\n\\n\\n\\n\\nФункции JavaScript недоступны.\\nВ вашем браузере отключены функции JavaScript. Включите их или начните использовать поддерживаемый браузер, чтобы продолжить пользоваться сайтом twitter.com. Список поддерживаемых браузеров приведен в Справочном центре.\\nСправочный центр\\n\\nУсловия предоставления услуг\\nПолитика конфиденциальности\\nПолитика в отношении файлов cookie\\nImprint\\nИнформация о рекламе\\n      © 2022 Twitter, Inc.\\n    \\n\\nДля просмотра горячих клавиш нажмите знак вопросаПосмотреть горячие клавишиПопулярноеПоследнееЛюдиФотографииВидеоПосмотреть новые твитыЛента поискаmaart@arcteryx74·15 окт. 2021 г.Оплатил в метро проезд лицом, метрополитен перевёл в фонд «Подари жизнь» 2 миллиарда рублей.410Мама Стифлeрa@ds107m6p·7 маяУ всего есть финансовый след.\\n\\n\"Дебиторская задолженность фонда \"Подари жизнь\" (ранее известного как фонд Хаматовой) за последние годы демонстрирует прямо-таки аномальный рост более чем в 30 раз: с ₽31 миллиона в 2018 до ₽1,06 миллиарда в 2021\".\\n\\nПо-русски говоря, миллиард йок.3210Показать эту веткуДарси | Сахарок@Sorry_I_Fell·30 июн.Антон с Димой, которые приехали  в фонд \"подари жизнь\" просто >>>>>>>>>>>>24irinar бумеранг@23kiskis·24 мар.А бумеранг никому еще не удалось отменить.\\n\\nК вопросу об эмиграции Хаматовой в Латвию, в свою избушку. Началась проверка Фонда. Оказалось, что они тратили 8 млн. рублей в месяц себе на зарплату. Даже по западным меркам это преступление.\\nФонд \"Подари жизнь\" Хаматовой и Корзун256Показать эту веткуГалина Сергеевна любит тебя@GalinaS_Support·3 дек. 2020 г.Фонд \"Подари жизнь\" помогает людям до 25 с тяжёлыми заболеваниями, онкологией, болезнями крови\\n\\nСреди прочего им можно перечислить мили Аэрофлота или баллы РЖД, чтобы оплатить ими дорогу до больницы или мед.центра, стать волонтером, помочь вещамиpodari-zhizn.ruБлаготворительный фонд «Подари жизнь»Благотворительный фонд помощи детям с онкологическими, гематологическими и иными тяжелыми заболеваниями «Подари жизнь». Фонд помогает детям и взрослым до 25 лет получить самую эффективную и совреме...19773Показать эту веткуDina Belolyubskaya@StupidmissGirl·19 мая 2019 г.Алина слишком мила для этого мира\\n\\nНа свой день рождения попросила вместо подарка пожертвовать эти деньги онкобольным детям в благотворительный фонд \"Подари жизнь\"848DW на русском@dw_russian·23 апр. 2020 г.Чулпан Хаматова предложила организовать прямую линию, в которой смогут принять участие все те, кто недоволен ее ролью: \"Вы плюнете мне в лицо, скажете все гадости, какие только хотели, но переведете деньги в фонд \"Подари жизнь\"dw.comЧулпан Хаматова ответила на травлю за роль ЗулейхиАктриса предложила критикам встретиться в рамках прямой линии, высказать ей в лицо все гадости, но перевести деньги в благотворительный фонд \"Подари жизнь\", помогающий тяжело больным детям.12376388колес.@vankoles·28 нояб. 2021 г.пост максима про фонд “подари жизнь” и видео, где он девочке объясняет как сделать фокус \\nпросто мое сердце 7↸ଟୀ@i61i61i61·19 сент. 2021 г. Фонд \"Подари Жизнь\" запускает благотворительный NFT-аукцион в котором участвует i61. \\n\\nhttps://rarible.com/podarilife\\nhttps://twitter.com/PodariLife1251Институт Биопроблем Академии Наук @bioproblemnet·24 апр.Чулпан Хаматову хуесосят и украинцы - за то, что поддерживала хуйло, и орки - за то, что это же хуйло она перестала поддерживать и уехала\\n\\nРебята, в какой момент, по вашему, Чулпан должна была послать пыню и обречь на смерть онкобольных детей, которым помогал фонд «Подари жизнь»?318'"
            ],
            "application/vnd.google.colaboratory.intrinsic+json": {
              "type": "string"
            }
          },
          "metadata": {},
          "execution_count": 48
        }
      ]
    },
    {
      "cell_type": "code",
      "source": [
        "sentiment2 = df.text.apply(text2toxicity)"
      ],
      "metadata": {
        "id": "FLlu9WHDt09V"
      },
      "execution_count": 49,
      "outputs": []
    },
    {
      "cell_type": "code",
      "source": [
        "sentiment_m2_df = pd.DataFrame.from_records(sentiment2, columns=[\"m2_neutral\", \"m2_toxic\",])"
      ],
      "metadata": {
        "id": "dJq5y-Hku7Lf"
      },
      "execution_count": 50,
      "outputs": []
    },
    {
      "cell_type": "markdown",
      "source": [
        "## Объединим результаты"
      ],
      "metadata": {
        "id": "tUmj7KmBvZL9"
      }
    },
    {
      "cell_type": "code",
      "source": [
        "result_df = df.join(sentiment_m1_df).join(sentiment_m2_df)"
      ],
      "metadata": {
        "id": "CZBuOGxzvXTu"
      },
      "execution_count": 57,
      "outputs": []
    },
    {
      "cell_type": "code",
      "source": [
        "result_df.head()"
      ],
      "metadata": {
        "colab": {
          "base_uri": "https://localhost:8080/",
          "height": 337
        },
        "id": "eWz9mhS0vmKN",
        "outputId": "87dcca0b-fc20-4f0b-e433-90c2d4d46d1c"
      },
      "execution_count": 58,
      "outputs": [
        {
          "output_type": "execute_result",
          "data": {
            "text/plain": [
              "                       date                             author  \\\n",
              "0  2022-03-20T21:22:37.000Z                  Фонд Подари жизнь   \n",
              "1  2022-03-20T21:22:37.000Z                              Masha   \n",
              "2  2022-03-20T21:22:37.000Z  Просто СЕРЁГА. И да, я патриот!!!   \n",
              "3  2022-03-20T21:22:37.000Z                              водка   \n",
              "4  2022-03-20T21:22:37.000Z                       Compatriot Z   \n",
              "\n",
              "       twitter_name                                               text  \\\n",
              "0      @podarizhizn  \\n\\n\\n\\n\\n\\n'фонд Подари жизнь' — Поиск в Твит...   \n",
              "1     @arctic_lanes  А по телеку всё идет реклама: \"Оформи ежемесяч...   \n",
              "2  @MgNBAiiDua58SZ5  Чулпан Хаматова эмигрировала в Латвию. \\nСказа...   \n",
              "3      @vodkaofsuga  Русскоязычные АРМИ пожертвовали 841 640 р. в ф...   \n",
              "4          @cardros  Оппа, какой интересный поворот!\\nХотя, честно ...   \n",
              "\n",
              "   number_of_reply  number_of_retweets  number_of_likes  m1_notoxic  \\\n",
              "0              0.0                 3.0               19    0.998206   \n",
              "1             29.0                63.0              335    0.999864   \n",
              "2              1.0                31.0              146    0.010285   \n",
              "3             92.0               461.0              570    0.996537   \n",
              "4            364.0               119.0              526    0.993550   \n",
              "\n",
              "   m1_insult  m1_obscenity  m1_threat  m1_dangerous  m2_neutral  m2_toxic  \n",
              "0   0.001872      0.000105   0.000160      0.372565    0.797487  0.290629  \n",
              "1   0.000180      0.000106   0.000124      0.047153    0.952932  0.079942  \n",
              "2   0.981738      0.004774   0.005248      0.960458    0.118250  0.742791  \n",
              "3   0.003471      0.000451   0.000375      0.597437    0.669704  0.365545  \n",
              "4   0.007526      0.000244   0.000150      0.346785    0.933916  0.112687  "
            ],
            "text/html": [
              "\n",
              "  <div id=\"df-18ee6d24-5ead-4519-8cba-bd512bbcafc1\">\n",
              "    <div class=\"colab-df-container\">\n",
              "      <div>\n",
              "<style scoped>\n",
              "    .dataframe tbody tr th:only-of-type {\n",
              "        vertical-align: middle;\n",
              "    }\n",
              "\n",
              "    .dataframe tbody tr th {\n",
              "        vertical-align: top;\n",
              "    }\n",
              "\n",
              "    .dataframe thead th {\n",
              "        text-align: right;\n",
              "    }\n",
              "</style>\n",
              "<table border=\"1\" class=\"dataframe\">\n",
              "  <thead>\n",
              "    <tr style=\"text-align: right;\">\n",
              "      <th></th>\n",
              "      <th>date</th>\n",
              "      <th>author</th>\n",
              "      <th>twitter_name</th>\n",
              "      <th>text</th>\n",
              "      <th>number_of_reply</th>\n",
              "      <th>number_of_retweets</th>\n",
              "      <th>number_of_likes</th>\n",
              "      <th>m1_notoxic</th>\n",
              "      <th>m1_insult</th>\n",
              "      <th>m1_obscenity</th>\n",
              "      <th>m1_threat</th>\n",
              "      <th>m1_dangerous</th>\n",
              "      <th>m2_neutral</th>\n",
              "      <th>m2_toxic</th>\n",
              "    </tr>\n",
              "  </thead>\n",
              "  <tbody>\n",
              "    <tr>\n",
              "      <th>0</th>\n",
              "      <td>2022-03-20T21:22:37.000Z</td>\n",
              "      <td>Фонд Подари жизнь</td>\n",
              "      <td>@podarizhizn</td>\n",
              "      <td>\\n\\n\\n\\n\\n\\n'фонд Подари жизнь' — Поиск в Твит...</td>\n",
              "      <td>0.0</td>\n",
              "      <td>3.0</td>\n",
              "      <td>19</td>\n",
              "      <td>0.998206</td>\n",
              "      <td>0.001872</td>\n",
              "      <td>0.000105</td>\n",
              "      <td>0.000160</td>\n",
              "      <td>0.372565</td>\n",
              "      <td>0.797487</td>\n",
              "      <td>0.290629</td>\n",
              "    </tr>\n",
              "    <tr>\n",
              "      <th>1</th>\n",
              "      <td>2022-03-20T21:22:37.000Z</td>\n",
              "      <td>Masha</td>\n",
              "      <td>@arctic_lanes</td>\n",
              "      <td>А по телеку всё идет реклама: \"Оформи ежемесяч...</td>\n",
              "      <td>29.0</td>\n",
              "      <td>63.0</td>\n",
              "      <td>335</td>\n",
              "      <td>0.999864</td>\n",
              "      <td>0.000180</td>\n",
              "      <td>0.000106</td>\n",
              "      <td>0.000124</td>\n",
              "      <td>0.047153</td>\n",
              "      <td>0.952932</td>\n",
              "      <td>0.079942</td>\n",
              "    </tr>\n",
              "    <tr>\n",
              "      <th>2</th>\n",
              "      <td>2022-03-20T21:22:37.000Z</td>\n",
              "      <td>Просто СЕРЁГА. И да, я патриот!!!</td>\n",
              "      <td>@MgNBAiiDua58SZ5</td>\n",
              "      <td>Чулпан Хаматова эмигрировала в Латвию. \\nСказа...</td>\n",
              "      <td>1.0</td>\n",
              "      <td>31.0</td>\n",
              "      <td>146</td>\n",
              "      <td>0.010285</td>\n",
              "      <td>0.981738</td>\n",
              "      <td>0.004774</td>\n",
              "      <td>0.005248</td>\n",
              "      <td>0.960458</td>\n",
              "      <td>0.118250</td>\n",
              "      <td>0.742791</td>\n",
              "    </tr>\n",
              "    <tr>\n",
              "      <th>3</th>\n",
              "      <td>2022-03-20T21:22:37.000Z</td>\n",
              "      <td>водка</td>\n",
              "      <td>@vodkaofsuga</td>\n",
              "      <td>Русскоязычные АРМИ пожертвовали 841 640 р. в ф...</td>\n",
              "      <td>92.0</td>\n",
              "      <td>461.0</td>\n",
              "      <td>570</td>\n",
              "      <td>0.996537</td>\n",
              "      <td>0.003471</td>\n",
              "      <td>0.000451</td>\n",
              "      <td>0.000375</td>\n",
              "      <td>0.597437</td>\n",
              "      <td>0.669704</td>\n",
              "      <td>0.365545</td>\n",
              "    </tr>\n",
              "    <tr>\n",
              "      <th>4</th>\n",
              "      <td>2022-03-20T21:22:37.000Z</td>\n",
              "      <td>Compatriot Z</td>\n",
              "      <td>@cardros</td>\n",
              "      <td>Оппа, какой интересный поворот!\\nХотя, честно ...</td>\n",
              "      <td>364.0</td>\n",
              "      <td>119.0</td>\n",
              "      <td>526</td>\n",
              "      <td>0.993550</td>\n",
              "      <td>0.007526</td>\n",
              "      <td>0.000244</td>\n",
              "      <td>0.000150</td>\n",
              "      <td>0.346785</td>\n",
              "      <td>0.933916</td>\n",
              "      <td>0.112687</td>\n",
              "    </tr>\n",
              "  </tbody>\n",
              "</table>\n",
              "</div>\n",
              "      <button class=\"colab-df-convert\" onclick=\"convertToInteractive('df-18ee6d24-5ead-4519-8cba-bd512bbcafc1')\"\n",
              "              title=\"Convert this dataframe to an interactive table.\"\n",
              "              style=\"display:none;\">\n",
              "        \n",
              "  <svg xmlns=\"http://www.w3.org/2000/svg\" height=\"24px\"viewBox=\"0 0 24 24\"\n",
              "       width=\"24px\">\n",
              "    <path d=\"M0 0h24v24H0V0z\" fill=\"none\"/>\n",
              "    <path d=\"M18.56 5.44l.94 2.06.94-2.06 2.06-.94-2.06-.94-.94-2.06-.94 2.06-2.06.94zm-11 1L8.5 8.5l.94-2.06 2.06-.94-2.06-.94L8.5 2.5l-.94 2.06-2.06.94zm10 10l.94 2.06.94-2.06 2.06-.94-2.06-.94-.94-2.06-.94 2.06-2.06.94z\"/><path d=\"M17.41 7.96l-1.37-1.37c-.4-.4-.92-.59-1.43-.59-.52 0-1.04.2-1.43.59L10.3 9.45l-7.72 7.72c-.78.78-.78 2.05 0 2.83L4 21.41c.39.39.9.59 1.41.59.51 0 1.02-.2 1.41-.59l7.78-7.78 2.81-2.81c.8-.78.8-2.07 0-2.86zM5.41 20L4 18.59l7.72-7.72 1.47 1.35L5.41 20z\"/>\n",
              "  </svg>\n",
              "      </button>\n",
              "      \n",
              "  <style>\n",
              "    .colab-df-container {\n",
              "      display:flex;\n",
              "      flex-wrap:wrap;\n",
              "      gap: 12px;\n",
              "    }\n",
              "\n",
              "    .colab-df-convert {\n",
              "      background-color: #E8F0FE;\n",
              "      border: none;\n",
              "      border-radius: 50%;\n",
              "      cursor: pointer;\n",
              "      display: none;\n",
              "      fill: #1967D2;\n",
              "      height: 32px;\n",
              "      padding: 0 0 0 0;\n",
              "      width: 32px;\n",
              "    }\n",
              "\n",
              "    .colab-df-convert:hover {\n",
              "      background-color: #E2EBFA;\n",
              "      box-shadow: 0px 1px 2px rgba(60, 64, 67, 0.3), 0px 1px 3px 1px rgba(60, 64, 67, 0.15);\n",
              "      fill: #174EA6;\n",
              "    }\n",
              "\n",
              "    [theme=dark] .colab-df-convert {\n",
              "      background-color: #3B4455;\n",
              "      fill: #D2E3FC;\n",
              "    }\n",
              "\n",
              "    [theme=dark] .colab-df-convert:hover {\n",
              "      background-color: #434B5C;\n",
              "      box-shadow: 0px 1px 3px 1px rgba(0, 0, 0, 0.15);\n",
              "      filter: drop-shadow(0px 1px 2px rgba(0, 0, 0, 0.3));\n",
              "      fill: #FFFFFF;\n",
              "    }\n",
              "  </style>\n",
              "\n",
              "      <script>\n",
              "        const buttonEl =\n",
              "          document.querySelector('#df-18ee6d24-5ead-4519-8cba-bd512bbcafc1 button.colab-df-convert');\n",
              "        buttonEl.style.display =\n",
              "          google.colab.kernel.accessAllowed ? 'block' : 'none';\n",
              "\n",
              "        async function convertToInteractive(key) {\n",
              "          const element = document.querySelector('#df-18ee6d24-5ead-4519-8cba-bd512bbcafc1');\n",
              "          const dataTable =\n",
              "            await google.colab.kernel.invokeFunction('convertToInteractive',\n",
              "                                                     [key], {});\n",
              "          if (!dataTable) return;\n",
              "\n",
              "          const docLinkHtml = 'Like what you see? Visit the ' +\n",
              "            '<a target=\"_blank\" href=https://colab.research.google.com/notebooks/data_table.ipynb>data table notebook</a>'\n",
              "            + ' to learn more about interactive tables.';\n",
              "          element.innerHTML = '';\n",
              "          dataTable['output_type'] = 'display_data';\n",
              "          await google.colab.output.renderOutput(dataTable, element);\n",
              "          const docLink = document.createElement('div');\n",
              "          docLink.innerHTML = docLinkHtml;\n",
              "          element.appendChild(docLink);\n",
              "        }\n",
              "      </script>\n",
              "    </div>\n",
              "  </div>\n",
              "  "
            ]
          },
          "metadata": {},
          "execution_count": 58
        }
      ]
    },
    {
      "cell_type": "code",
      "source": [
        "result_df.shape"
      ],
      "metadata": {
        "colab": {
          "base_uri": "https://localhost:8080/"
        },
        "id": "LYUaDTNlvnVt",
        "outputId": "6616a5aa-97d6-434c-cc96-06e76a2de815"
      },
      "execution_count": 59,
      "outputs": [
        {
          "output_type": "execute_result",
          "data": {
            "text/plain": [
              "(3721, 14)"
            ]
          },
          "metadata": {},
          "execution_count": 59
        }
      ]
    },
    {
      "cell_type": "code",
      "source": [
        "result_df.to_csv(\"sentiment_from_2_models.csv\")"
      ],
      "metadata": {
        "id": "43aeJT21wClQ"
      },
      "execution_count": 60,
      "outputs": []
    },
    {
      "cell_type": "code",
      "source": [
        ""
      ],
      "metadata": {
        "id": "k4XgXLbJwe12"
      },
      "execution_count": null,
      "outputs": []
    }
  ]
}